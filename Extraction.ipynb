{
 "cells": [
  {
   "cell_type": "code",
   "execution_count": 1,
   "id": "78d90cfe",
   "metadata": {},
   "outputs": [],
   "source": [
    "import PyPDF2\n",
    "import re\n",
    "import camelot \n",
    "import matplotlib.pyplot as plt\n",
    "import pandas as pd\n",
    "import openpyxl\n",
    "from openpyxl import Workbook"
   ]
  },
  {
   "cell_type": "code",
   "execution_count": 2,
   "id": "6a6021a2",
   "metadata": {},
   "outputs": [
    {
     "data": {
      "text/plain": [
       "'Suppliers:\\n ABC Calibrator\\n    Calibration Date:\\n Feb. 22, 2023\\n Serial Number:\\n 12345678    Calibration Expiration:\\n Feb. 21, 2024\\n  Constant Voltage Accuracy\\n Range\\n Nominal\\n As Found\\n As Left\\n Result Tolerance Status\\n 0  80V 8.0000 V\\n 7.9950 V\\n 8.0840 V\\n PASS Validated Pass\\n 0  80V 20.000 V\\n 19.990 V\\n 20.090 V\\n PASS Validated Pass\\n  Constant Current Accuracy\\n Range\\n Nominal\\n As Found\\n As Left\\n Result Tolerance Status\\n 0 - 60 A\\n 6.0000 A\\n 5.9906 A\\n 5.9906 A\\n FAIL Validated Fail\\n 0 - 60 A\\n 15.000 A\\n 14.977 A\\n 14.977 A\\n FAIL Validated Fail\\n   NOTE: Extract above content as it is and store into DB or Excel sheet, No calculation needed.\\n \\ninformation.\\n   Describe the solution process flow in \\ndiagram\\n  List of tech stacks being used\\n  Share the code\\n/scripts and the WebApp\\n '"
      ]
     },
     "execution_count": 2,
     "metadata": {},
     "output_type": "execute_result"
    }
   ],
   "source": [
    "load_pdf = open(r'C:\\Users\\LinZha\\Desktop\\Text Mining\\DigitalizedText_DataSource.pdf', 'rb')\n",
    "read_pdf = PyPDF2.PdfFileReader(load_pdf)\n",
    "first_page = read_pdf.pages[0]\n",
    "page_content = first_page.extractText()\n",
    "page_content"
   ]
  },
  {
   "cell_type": "code",
   "execution_count": 3,
   "id": "5281670b",
   "metadata": {},
   "outputs": [],
   "source": [
    "suppliers = re.search(r'(\\w+\\s\\w+)', page_content).group()\n",
    "calibration_date = re.search(r\"Calibration Date:\\n(.*)\\n\", page_content).group(1)\n",
    "serial_number = re.search(r'([0-9]{8})', page_content).group()\n",
    "calibration_expiration = re.search(r\"Calibration Expiration:\\n(.*)\\n\", page_content).group(1)"
   ]
  },
  {
   "cell_type": "code",
   "execution_count": 4,
   "id": "d1b174b7",
   "metadata": {},
   "outputs": [
    {
     "data": {
      "text/plain": [
       "'ABC Calibrator'"
      ]
     },
     "execution_count": 4,
     "metadata": {},
     "output_type": "execute_result"
    }
   ],
   "source": [
    "suppliers"
   ]
  },
  {
   "cell_type": "code",
   "execution_count": 5,
   "id": "1997be59",
   "metadata": {},
   "outputs": [
    {
     "data": {
      "text/plain": [
       "' Feb. 22, 2023'"
      ]
     },
     "execution_count": 5,
     "metadata": {},
     "output_type": "execute_result"
    }
   ],
   "source": [
    "calibration_date"
   ]
  },
  {
   "cell_type": "code",
   "execution_count": 6,
   "id": "40e0fafa",
   "metadata": {},
   "outputs": [
    {
     "data": {
      "text/plain": [
       "'12345678'"
      ]
     },
     "execution_count": 6,
     "metadata": {},
     "output_type": "execute_result"
    }
   ],
   "source": [
    "serial_number"
   ]
  },
  {
   "cell_type": "code",
   "execution_count": 7,
   "id": "fa8bcc59",
   "metadata": {},
   "outputs": [
    {
     "data": {
      "text/plain": [
       "' Feb. 21, 2024'"
      ]
     },
     "execution_count": 7,
     "metadata": {},
     "output_type": "execute_result"
    }
   ],
   "source": [
    "calibration_expiration"
   ]
  },
  {
   "cell_type": "code",
   "execution_count": 8,
   "id": "7936a2bd",
   "metadata": {},
   "outputs": [
    {
     "name": "stderr",
     "output_type": "stream",
     "text": [
      "UserWarning: Matplotlib is currently using module://matplotlib_inline.backend_inline, which is a non-GUI backend, so cannot show the figure. [3399669067.py:3]\n"
     ]
    },
    {
     "data": {
      "image/png": "[encoded data removed]",
      "text/plain": [
       "<Figure size 640x480 with 1 Axes>"
      ]
     },
     "metadata": {},
     "output_type": "display_data"
    }
   ],
   "source": [
    "file_path = r'C:\\Users\\LinZha\\Desktop\\Text Mining\\DigitalizedText_DataSource.pdf'\n",
    "tables = camelot.read_pdf(file_path, flavor ='stream', edge_tol = 700)\n",
    "camelot.plot(tables[0], kind = 'contour').show()"
   ]
  },
  {
   "cell_type": "code",
   "execution_count": 9,
   "id": "5990f2b4",
   "metadata": {},
   "outputs": [],
   "source": [
    "table1 = camelot.read_pdf(file_path, flavor = 'stream', table_areas = ['10,680,590,620'])\n",
    "table2 = camelot.read_pdf(file_path, flavor = 'stream', table_areas = ['10,590,590,530'])"
   ]
  },
  {
   "cell_type": "code",
   "execution_count": 10,
   "id": "95681178",
   "metadata": {},
   "outputs": [
    {
     "data": {
      "text/html": [
       "<div>\n",
       "<style scoped>\n",
       "    .dataframe tbody tr th:only-of-type {\n",
       "        vertical-align: middle;\n",
       "    }\n",
       "\n",
       "    .dataframe tbody tr th {\n",
       "        vertical-align: top;\n",
       "    }\n",
       "\n",
       "    .dataframe thead th {\n",
       "        text-align: right;\n",
       "    }\n",
       "</style>\n",
       "<table border=\"1\" class=\"dataframe\">\n",
       "  <thead>\n",
       "    <tr style=\"text-align: right;\">\n",
       "      <th></th>\n",
       "      <th></th>\n",
       "      <th>Range</th>\n",
       "      <th>Nominal</th>\n",
       "      <th>As Found</th>\n",
       "      <th>As Left</th>\n",
       "      <th>Result</th>\n",
       "      <th>Tolerance Status</th>\n",
       "    </tr>\n",
       "  </thead>\n",
       "  <tbody>\n",
       "    <tr>\n",
       "      <th>0</th>\n",
       "      <td>0 – 80V</td>\n",
       "      <td></td>\n",
       "      <td>8.0000 V</td>\n",
       "      <td>7.9950 V</td>\n",
       "      <td>8.0840 V</td>\n",
       "      <td>PASS</td>\n",
       "      <td>Validated Pass</td>\n",
       "    </tr>\n",
       "    <tr>\n",
       "      <th>1</th>\n",
       "      <td>0 – 80V</td>\n",
       "      <td></td>\n",
       "      <td>20.000 V</td>\n",
       "      <td>19.990 V</td>\n",
       "      <td>20.090 V</td>\n",
       "      <td>PASS</td>\n",
       "      <td>Validated Pass</td>\n",
       "    </tr>\n",
       "  </tbody>\n",
       "</table>\n",
       "</div>"
      ],
      "text/plain": [
       "0          Range   Nominal  As Found   As Left Result Tolerance Status\n",
       "0  0 – 80V        8.0000 V  7.9950 V  8.0840 V   PASS   Validated Pass\n",
       "1  0 – 80V        20.000 V  19.990 V  20.090 V   PASS   Validated Pass"
      ]
     },
     "execution_count": 10,
     "metadata": {},
     "output_type": "execute_result"
    }
   ],
   "source": [
    "dataframe1 = table1[0].df\n",
    "\n",
    "\n",
    "header = dataframe1.iloc[0]  # Set the first row as the header of the dataframe\n",
    "dataframe1 = dataframe1[1:]  # Remove the first row from the dataframe\n",
    "dataframe1.columns = header  # Set the header as the column names\n",
    "\n",
    "# Reset the index of the dataframe\n",
    "dataframe1.reset_index(drop=True, inplace=True)\n",
    "\n",
    "dataframe1"
   ]
  },
  {
   "cell_type": "code",
   "execution_count": 11,
   "id": "9975a6ec",
   "metadata": {},
   "outputs": [
    {
     "data": {
      "text/html": [
       "<div>\n",
       "<style scoped>\n",
       "    .dataframe tbody tr th:only-of-type {\n",
       "        vertical-align: middle;\n",
       "    }\n",
       "\n",
       "    .dataframe tbody tr th {\n",
       "        vertical-align: top;\n",
       "    }\n",
       "\n",
       "    .dataframe thead th {\n",
       "        text-align: right;\n",
       "    }\n",
       "</style>\n",
       "<table border=\"1\" class=\"dataframe\">\n",
       "  <thead>\n",
       "    <tr style=\"text-align: right;\">\n",
       "      <th></th>\n",
       "      <th>Range</th>\n",
       "      <th>Nominal</th>\n",
       "      <th>As Found</th>\n",
       "      <th>As Left</th>\n",
       "      <th>Result</th>\n",
       "      <th>Tolerance Status</th>\n",
       "    </tr>\n",
       "  </thead>\n",
       "  <tbody>\n",
       "    <tr>\n",
       "      <th>0</th>\n",
       "      <td>0 - 60 A</td>\n",
       "      <td>6.0000 A</td>\n",
       "      <td>5.9906 A</td>\n",
       "      <td>5.9906 A</td>\n",
       "      <td>FAIL</td>\n",
       "      <td>Validated Fail</td>\n",
       "    </tr>\n",
       "    <tr>\n",
       "      <th>1</th>\n",
       "      <td>0 - 60 A</td>\n",
       "      <td>15.000 A</td>\n",
       "      <td>14.977 A</td>\n",
       "      <td>14.977 A</td>\n",
       "      <td>FAIL</td>\n",
       "      <td>Validated Fail</td>\n",
       "    </tr>\n",
       "  </tbody>\n",
       "</table>\n",
       "</div>"
      ],
      "text/plain": [
       "0     Range   Nominal  As Found   As Left Result Tolerance Status\n",
       "0  0 - 60 A  6.0000 A  5.9906 A  5.9906 A   FAIL   Validated Fail\n",
       "1  0 - 60 A  15.000 A  14.977 A  14.977 A   FAIL   Validated Fail"
      ]
     },
     "execution_count": 11,
     "metadata": {},
     "output_type": "execute_result"
    }
   ],
   "source": [
    "dataframe2 = table2[0].df \n",
    "\n",
    "\n",
    "header = dataframe2.iloc[0]  # Set the first row as the header of the dataframe\n",
    "dataframe2 = dataframe2[1:]  # Remove the first row from the dataframe\n",
    "dataframe2.columns = header  # Set the header as the column names\n",
    "\n",
    "# Reset the index of the dataframe\n",
    "dataframe2.reset_index(drop=True, inplace=True)\n",
    "\n",
    "dataframe2"
   ]
  },
  {
   "cell_type": "code",
   "execution_count": 12,
   "id": "c13d2247",
   "metadata": {},
   "outputs": [
    {
     "name": "stderr",
     "output_type": "stream",
     "text": [
      "SettingWithCopyWarning: \n",
      "A value is trying to be set on a copy of a slice from a DataFrame.\n",
      "Try using .loc[row_indexer,col_indexer] = value instead\n",
      "\n",
      "See the caveats in the documentation: https://pandas.pydata.org/pandas-docs/stable/user_guide/indexing.html#returning-a-view-versus-a-copy [3473441744.py:1]\n",
      "SettingWithCopyWarning: \n",
      "A value is trying to be set on a copy of a slice from a DataFrame.\n",
      "Try using .loc[row_indexer,col_indexer] = value instead\n",
      "\n",
      "See the caveats in the documentation: https://pandas.pydata.org/pandas-docs/stable/user_guide/indexing.html#returning-a-view-versus-a-copy [3473441744.py:2]\n",
      "SettingWithCopyWarning: \n",
      "A value is trying to be set on a copy of a slice from a DataFrame.\n",
      "Try using .loc[row_indexer,col_indexer] = value instead\n",
      "\n",
      "See the caveats in the documentation: https://pandas.pydata.org/pandas-docs/stable/user_guide/indexing.html#returning-a-view-versus-a-copy [3473441744.py:3]\n",
      "SettingWithCopyWarning: \n",
      "A value is trying to be set on a copy of a slice from a DataFrame.\n",
      "Try using .loc[row_indexer,col_indexer] = value instead\n",
      "\n",
      "See the caveats in the documentation: https://pandas.pydata.org/pandas-docs/stable/user_guide/indexing.html#returning-a-view-versus-a-copy [3473441744.py:4]\n"
     ]
    },
    {
     "data": {
      "text/html": [
       "<div>\n",
       "<style scoped>\n",
       "    .dataframe tbody tr th:only-of-type {\n",
       "        vertical-align: middle;\n",
       "    }\n",
       "\n",
       "    .dataframe tbody tr th {\n",
       "        vertical-align: top;\n",
       "    }\n",
       "\n",
       "    .dataframe thead th {\n",
       "        text-align: right;\n",
       "    }\n",
       "</style>\n",
       "<table border=\"1\" class=\"dataframe\">\n",
       "  <thead>\n",
       "    <tr style=\"text-align: right;\">\n",
       "      <th></th>\n",
       "      <th>Range</th>\n",
       "      <th>Nominal</th>\n",
       "      <th>As Found</th>\n",
       "      <th>As Left</th>\n",
       "      <th>Result</th>\n",
       "      <th>Tolerance Status</th>\n",
       "      <th>Supplier</th>\n",
       "      <th>Serial Number</th>\n",
       "      <th>Calibration Date</th>\n",
       "      <th>Calibration Expiration</th>\n",
       "    </tr>\n",
       "  </thead>\n",
       "  <tbody>\n",
       "    <tr>\n",
       "      <th>0</th>\n",
       "      <td>0 - 60 A</td>\n",
       "      <td>6.0000 A</td>\n",
       "      <td>5.9906 A</td>\n",
       "      <td>5.9906 A</td>\n",
       "      <td>FAIL</td>\n",
       "      <td>Validated Fail</td>\n",
       "      <td>ABC Calibrator</td>\n",
       "      <td>12345678</td>\n",
       "      <td>Feb. 22, 2023</td>\n",
       "      <td>Feb. 21, 2024</td>\n",
       "    </tr>\n",
       "    <tr>\n",
       "      <th>1</th>\n",
       "      <td>0 - 60 A</td>\n",
       "      <td>15.000 A</td>\n",
       "      <td>14.977 A</td>\n",
       "      <td>14.977 A</td>\n",
       "      <td>FAIL</td>\n",
       "      <td>Validated Fail</td>\n",
       "      <td>ABC Calibrator</td>\n",
       "      <td>12345678</td>\n",
       "      <td>Feb. 22, 2023</td>\n",
       "      <td>Feb. 21, 2024</td>\n",
       "    </tr>\n",
       "  </tbody>\n",
       "</table>\n",
       "</div>"
      ],
      "text/plain": [
       "0     Range   Nominal  As Found   As Left Result Tolerance Status   \n",
       "0  0 - 60 A  6.0000 A  5.9906 A  5.9906 A   FAIL   Validated Fail  \\\n",
       "1  0 - 60 A  15.000 A  14.977 A  14.977 A   FAIL   Validated Fail   \n",
       "\n",
       "0        Supplier Serial Number Calibration Date Calibration Expiration  \n",
       "0  ABC Calibrator      12345678    Feb. 22, 2023          Feb. 21, 2024  \n",
       "1  ABC Calibrator      12345678    Feb. 22, 2023          Feb. 21, 2024  "
      ]
     },
     "execution_count": 12,
     "metadata": {},
     "output_type": "execute_result"
    }
   ],
   "source": [
    "dataframe2['Supplier'] = suppliers\n",
    "dataframe2['Serial Number'] = serial_number\n",
    "dataframe2['Calibration Date'] = calibration_date\n",
    "dataframe2['Calibration Expiration'] = calibration_expiration\n",
    "\n",
    "dataframe2"
   ]
  },
  {
   "cell_type": "code",
   "execution_count": 13,
   "id": "f59dd0e3",
   "metadata": {},
   "outputs": [
    {
     "name": "stdout",
     "output_type": "stream",
     "text": [
      "Data has been written to C:\\Users\\LinZha\\Desktop\\Text Mining\\Output.xlsx\n"
     ]
    }
   ],
   "source": [
    "# Create a Pandas Excel writer using openpyxl as the engine\n",
    "excel_path = r'C:\\Users\\LinZha\\Desktop\\Text Mining\\Output.xlsx'\n",
    "with pd.ExcelWriter(excel_path, engine='openpyxl') as excel_writer:\n",
    "    # Write data to the Excel worksheet\n",
    "    data = {\n",
    "        'Suppliers': [suppliers],\n",
    "        'Serial Number': [serial_number],\n",
    "        'Calibration Date': [calibration_date],\n",
    "        'Calibration Expiration': [calibration_expiration]\n",
    "    }\n",
    "    data_df = pd.DataFrame(data)\n",
    "    data_df.to_excel(excel_writer, sheet_name='Data', index=False)\n",
    "\n",
    "    # Append dataframe1 to the Excel worksheet\n",
    "    dataframe1.to_excel(excel_writer, sheet_name='Data', startrow=data_df.shape[0] + 2, index=False, header=True)\n",
    "\n",
    "    # Append dataframe2 to the Excel worksheet\n",
    "    dataframe2.to_excel(excel_writer, sheet_name='Data', startrow=data_df.shape[0] + dataframe1.shape[0] + 4, index=False, header=True)\n",
    "\n",
    "print(f'Data has been written to {excel_path}')\n"
   ]
  },
  {
   "cell_type": "code",
   "execution_count": 14,
   "id": "abd55457",
   "metadata": {},
   "outputs": [],
   "source": [
    "import mysql.connector\n",
    "from mysql.connector import Error"
   ]
  },
  {
   "cell_type": "code",
   "execution_count": 15,
   "id": "e5ae062a",
   "metadata": {},
   "outputs": [],
   "source": [
    "def create_connection():\n",
    "    connection = None\n",
    "    try:\n",
    "        connection = mysql.connector.connect(\n",
    "            host='localhost',\n",
    "            database='extraction',\n",
    "            user='root',\n",
    "            password='Summer1467'\n",
    "        )\n",
    "        if connection.is_connected():\n",
    "            print('Connected to MySQL database')\n",
    "    except Error as e:\n",
    "        print(f'Error connecting to MySQL database: {e}')\n",
    "    return connection\n"
   ]
  },
  {
   "cell_type": "code",
   "execution_count": 16,
   "id": "2ff093b4",
   "metadata": {},
   "outputs": [],
   "source": [
    "def clear_table_dataframe2(connection):\n",
    "    try:\n",
    "        cursor = connection.cursor()\n",
    "        delete_query = \"DELETE FROM dataframe2\"\n",
    "        cursor.execute(delete_query)\n",
    "        connection.commit()\n",
    "        print('Existing data cleared from dataframe2 table')\n",
    "    except Error as e:\n",
    "        print(f'Error clearing data from dataframe2 table: {e}')\n",
    "        \n",
    "def store_dataframe2(connection):\n",
    "    try:\n",
    "        cursor = connection.cursor()\n",
    "        clear_table_dataframe2(connection) \n",
    "        for _, row in dataframe2.iterrows():\n",
    "            insert_query = \"\"\"\n",
    "            INSERT INTO dataframe2 (Range_, Nominal, As_Found, As_left, Result, Tolerance_Status, Supplier, Serial_Number, Calibration_Date, Calibration_Expiration)\n",
    "            VALUES (%s, %s, %s, %s, %s, %s, %s, %s, %s, %s)\n",
    "            \"\"\"\n",
    "            data = (\n",
    "                row['Range'], row['Nominal'], row['As Found'], row['As Left'], row['Result'],\n",
    "                row['Tolerance Status'], row['Supplier'], row['Serial Number'], row['Calibration Date'], row['Calibration Expiration']\n",
    "            )\n",
    "            cursor.execute(insert_query, data)\n",
    "        connection.commit()\n",
    "        print('dataframe2 data stored successfully')\n",
    "    except Error as e:\n",
    "        print(f'Error storing dataframe2: {e}')"
   ]
  },
  {
   "cell_type": "code",
   "execution_count": 17,
   "id": "acf4e634",
   "metadata": {},
   "outputs": [
    {
     "name": "stdout",
     "output_type": "stream",
     "text": [
      "Connected to MySQL database\n",
      "Existing data cleared from dataframe2 table\n",
      "dataframe2 data stored successfully\n"
     ]
    }
   ],
   "source": [
    "connection = create_connection()\n",
    "if connection:\n",
    "    store_dataframe2(connection)\n",
    "    connection.close()"
   ]
  },
  {
   "cell_type": "code",
   "execution_count": null,
   "id": "fb15238c",
   "metadata": {},
   "outputs": [],
   "source": []
  }
 ],
 "metadata": {
  "kernelspec": {
   "display_name": "Python 3 (ipykernel)",
   "language": "python",
   "name": "python3"
  },
  "language_info": {
   "codemirror_mode": {
    "name": "ipython",
    "version": 3
   },
   "file_extension": ".py",
   "mimetype": "text/x-python",
   "name": "python",
   "nbconvert_exporter": "python",
   "pygments_lexer": "ipython3",
   "version": "3.10.9"
  }
 },
 "nbformat": 4,
 "nbformat_minor": 5
}
